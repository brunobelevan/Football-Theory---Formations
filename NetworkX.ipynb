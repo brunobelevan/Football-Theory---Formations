{
 "cells": [
  {
   "cell_type": "code",
   "execution_count": 1,
   "metadata": {},
   "outputs": [],
   "source": [
    "import networkx as nx\n",
    "import matplotlib.pyplot as plt"
   ]
  },
  {
   "cell_type": "code",
   "execution_count": 32,
   "metadata": {},
   "outputs": [],
   "source": [
    "def transform_formation(formation):\n",
    "    pos = {}\n",
    "    k = 0\n",
    "\n",
    "    for j in range(len(formation)):\n",
    "\n",
    "        if formation[j] == 1:\n",
    "            for i in range(0, formation[j]*2, 2):\n",
    "                pos[k] = (i + 5, j)\n",
    "                k = k + 1\n",
    "\n",
    "\n",
    "        elif formation[j] == 2:   \n",
    "            for i in range(0, formation[j]*2, 2):\n",
    "                pos[k] = (i + 4, j)\n",
    "                k = k + 1\n",
    "\n",
    "        elif formation[j] == 3:  \n",
    "            for i in range(0, formation[j]*2, 2):\n",
    "                pos[k] = (i + 3, j)\n",
    "                k = k + 1\n",
    "\n",
    "        elif formation[j] == 4:  \n",
    "            for i in range(0, formation[j]*2, 2):\n",
    "                pos[k] = (i + 2, j)\n",
    "                k = k + 1\n",
    "\n",
    "        elif formation[j] == 5:  \n",
    "            for i in range(0, formation[j]*2, 2):\n",
    "                pos[k] = (i + 1, j)\n",
    "                k = k + 1\n",
    "\n",
    "        elif formation[j] == 6:  \n",
    "            for i in range(0, formation[j]*2, 2):\n",
    "                pos[k] = (i, j)\n",
    "                k = k + 1\n",
    "    return pos\n",
    "\n",
    "def produce_edges(form):   \n",
    "    edges = []\n",
    "    \n",
    "    player_possible_1 = [1, 0]\n",
    "    player_possible_2 = [2, 0]\n",
    "    player_possible_3 = [2, 1]\n",
    "    player_possible_4 = [1, 1]\n",
    "    player_possible_5 = [0, 1]\n",
    "    player_possible_6 = [-1, 1]\n",
    "    player_possible_7 = [-2, 1]\n",
    "\n",
    "    player_range = [player_possible_1, \n",
    "                    player_possible_2, \n",
    "                    player_possible_3, \n",
    "                    player_possible_4,\n",
    "                    player_possible_5, \n",
    "                    player_possible_6,\n",
    "                    player_possible_7\n",
    "                   ]\n",
    "\n",
    "    for k in range(10):\n",
    "\n",
    "        player_position = form[k]\n",
    "        #print(f\"player_position {player_position}\")\n",
    "        all_posibilities = []\n",
    "        \n",
    "        for i in range(7):\n",
    "            x = player_position[0] + player_range[i][0]\n",
    "            y = player_position[1] + player_range[i][1]\n",
    "            possibility = (x,y)\n",
    "            all_posibilities.append(possibility)\n",
    "\n",
    "        #print(all_posibilities)\n",
    "\n",
    "        for j in range(len(all_posibilities)):\n",
    "            possibility = all_posibilities[j]\n",
    "\n",
    "            for i in range(len(form.keys())):\n",
    "                if form[i] == possibility:\n",
    "                    #print(f\"possibility {possibility}\")\n",
    "                    #print(f\"friend {form[i]}\")\n",
    "                    edge = (k, i)\n",
    "                    edges.append(edge)\n",
    "    return edges\n",
    "\n",
    "def plot(edges):\n",
    "\n",
    "    G=nx.Graph()\n",
    "\n",
    "    for edge in edges:\n",
    "        G.add_edge(edge[0], edge[1])\n",
    "\n",
    "    nx.draw_networkx_nodes(G, nodes, node_size=300, node_color='Purple')\n",
    "    nx.draw_networkx_edges(G, nodes)\n",
    "    nx.draw_networkx_labels(G, nodes, font_color='White')\n",
    "\n",
    "    plt.show()\n",
    "    plt.axis(\"off\")\n",
    "    print(G.number_of_edges())"
   ]
  },
  {
   "cell_type": "code",
   "execution_count": 33,
   "metadata": {},
   "outputs": [
    {
     "data": {
      "text/plain": [
       "{0: (2, 0),\n",
       " 1: (4, 0),\n",
       " 2: (6, 0),\n",
       " 3: (8, 0),\n",
       " 4: (5, 1),\n",
       " 5: (5, 2),\n",
       " 6: (5, 3),\n",
       " 7: (5, 4),\n",
       " 8: (4, 5),\n",
       " 9: (6, 5)}"
      ]
     },
     "execution_count": 33,
     "metadata": {},
     "output_type": "execute_result"
    }
   ],
   "source": [
    "formation = 411112.0\n",
    "formation = int(formation)\n",
    "formation = [int(i) for i in str(formation)]\n",
    "\n",
    "len(formation)\n",
    "\n",
    "transform_formation(formation)"
   ]
  },
  {
   "cell_type": "code",
   "execution_count": 35,
   "metadata": {},
   "outputs": [
    {
     "name": "stdout",
     "output_type": "stream",
     "text": [
      "[(0, 1), (1, 2), (1, 4), (2, 3), (2, 4), (4, 5), (5, 6), (6, 7), (7, 9), (7, 8), (8, 9)]\n"
     ]
    },
    {
     "data": {
      "image/png": "[encoded data removed]",
      "text/plain": [
       "<Figure size 432x288 with 1 Axes>"
      ]
     },
     "metadata": {},
     "output_type": "display_data"
    },
    {
     "name": "stdout",
     "output_type": "stream",
     "text": [
      "11\n"
     ]
    },
    {
     "data": {
      "image/png": "[encoded data removed]",
      "text/plain": [
       "<Figure size 432x288 with 1 Axes>"
      ]
     },
     "metadata": {
      "needs_background": "light"
     },
     "output_type": "display_data"
    }
   ],
   "source": [
    "nodes = transform_formation(formation)\n",
    "edges = produce_edges(nodes)\n",
    "print(edges)\n",
    "\n",
    "plot(edges)"
   ]
  }
 ],
 "metadata": {
  "kernelspec": {
   "display_name": "Python 3",
   "language": "python",
   "name": "python3"
  },
  "language_info": {
   "codemirror_mode": {
    "name": "ipython",
    "version": 3
   },
   "file_extension": ".py",
   "mimetype": "text/x-python",
   "name": "python",
   "nbconvert_exporter": "python",
   "pygments_lexer": "ipython3",
   "version": "3.8.5"
  }
 },
 "nbformat": 4,
 "nbformat_minor": 4
}
