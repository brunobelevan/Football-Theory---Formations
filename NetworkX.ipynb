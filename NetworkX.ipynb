{
 "cells": [
  {
   "cell_type": "code",
   "execution_count": 60,
   "metadata": {},
   "outputs": [],
   "source": [
    "def transform_formation(formation):\n",
    "    pos = {}\n",
    "    k = 0\n",
    "\n",
    "    for j in range(len(formation)):\n",
    "\n",
    "        if formation[j] == 1:\n",
    "            for i in range(formation[j], 2):\n",
    "                pos[k] = (i + 5, j)\n",
    "                k = k + 1\n",
    "\n",
    "\n",
    "        elif formation[j] == 2:   \n",
    "            for i in range(0, formation[j]*2, 2):\n",
    "                pos[k] = (i + 4, j)\n",
    "                k = k + 1\n",
    "\n",
    "        elif formation[j] == 3:  \n",
    "            for i in range(0, formation[j]*2, 2):\n",
    "                pos[k] = (i + 3, j)\n",
    "                k = k + 1\n",
    "\n",
    "        elif formation[j] == 4:  \n",
    "            for i in range(0, formation[j]*2, 2):\n",
    "                pos[k] = (i + 2, j)\n",
    "                k = k + 1\n",
    "\n",
    "        elif formation[j] == 5:  \n",
    "            for i in range(0, formation[j]*2, 2):\n",
    "                pos[k] = (i + 1, j)\n",
    "                k = k + 1\n",
    "\n",
    "        elif formation[j] == 6:  \n",
    "            for i in range(0, formation[j]*2, 2):\n",
    "                pos[k] = (i, j)\n",
    "                k = k + 1\n",
    "    return pos"
   ]
  },
  {
   "cell_type": "code",
   "execution_count": 77,
   "metadata": {},
   "outputs": [
    {
     "data": {
      "text/plain": [
       "{0: (2, 0),\n",
       " 1: (4, 0),\n",
       " 2: (6, 0),\n",
       " 3: (8, 0),\n",
       " 4: (2, 1),\n",
       " 5: (4, 1),\n",
       " 6: (6, 1),\n",
       " 7: (8, 1),\n",
       " 8: (4, 2),\n",
       " 9: (6, 2)}"
      ]
     },
     "execution_count": 77,
     "metadata": {},
     "output_type": "execute_result"
    }
   ],
   "source": [
    "formation = 442.0\n",
    "formation = int(formation)\n",
    "formation = [int(i) for i in str(formation)]\n",
    "\n",
    "graph = transform_formation(formation)\n",
    "\n",
    "graph"
   ]
  },
  {
   "cell_type": "code",
   "execution_count": 75,
   "metadata": {},
   "outputs": [
    {
     "data": {
      "image/png": "[encoded data removed]",
      "text/plain": [
       "<Figure size 432x288 with 1 Axes>"
      ]
     },
     "metadata": {},
     "output_type": "display_data"
    }
   ],
   "source": [
    "import matplotlib.pyplot as plt\n",
    "import networkx as nx\n",
    "\n",
    "G = nx.house_graph()\n",
    "# explicitly set positions\n",
    "pos = graph\n",
    "\n",
    "nx.draw_networkx_nodes(G, pos, node_size=500, nodelist=[0, 1, 2, 3, 4, 5, 6, 7, 8, 9])\n",
    "#nx.draw_networkx_edges(G, pos = nx.complete_graph(pos), alpha=0.5, width=6)\n",
    "plt.axis(\"off\")\n",
    "plt.show()"
   ]
  }
 ],
 "metadata": {
  "kernelspec": {
   "display_name": "Python 3",
   "language": "python",
   "name": "python3"
  },
  "language_info": {
   "codemirror_mode": {
    "name": "ipython",
    "version": 3
   },
   "file_extension": ".py",
   "mimetype": "text/x-python",
   "name": "python",
   "nbconvert_exporter": "python",
   "pygments_lexer": "ipython3",
   "version": "3.8.5"
  }
 },
 "nbformat": 4,
 "nbformat_minor": 4
}
