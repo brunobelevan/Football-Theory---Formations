{
 "cells": [
  {
   "cell_type": "code",
   "execution_count": 2,
   "metadata": {},
   "outputs": [],
   "source": [
    "import time\n",
    "import pandas as pd\n",
    "import requests\n",
    "\n",
    "from time import sleep\n",
    "from selenium import webdriver\n",
    "from selenium.webdriver.chrome.options import Options\n",
    "from selenium.webdriver.support.ui import WebDriverWait\n",
    "from selenium.webdriver.support import expected_conditions as EC\n",
    "from selenium.webdriver.common.by import By\n",
    "from selenium.webdriver.common.keys import Keys"
   ]
  },
  {
   "cell_type": "code",
   "execution_count": 5,
   "metadata": {},
   "outputs": [],
   "source": [
    "url = 'https://www.premierleague.com/tables'\n",
    "\n",
    "# Select Wait Time and Season\n",
    "wait_time = 1\n",
    "season_year = \"2019/20\"\n",
    "\n",
    "browser = webdriver.Chrome()\n",
    "browser.maximize_window()\n",
    "wait = WebDriverWait(browser, 60)\n",
    "\n",
    "\n",
    "browser.get(url)\n",
    "\n",
    "# Accept Cookies\n",
    "xpath_cookies = '//div[@class=\"btn-primary cookies-notice-accept\"]/span'\n",
    "cookies = wait.until(EC.element_to_be_clickable((By.XPATH, xpath_cookies)))\n",
    "time.sleep(wait_time)\n",
    "cookies.click()\n",
    "\n",
    "# Close No to Racism Tab\n",
    "xpath_racism = '//a[@id=\"advertClose\"]'\n",
    "racism = wait.until(EC.element_to_be_clickable((By.XPATH, xpath_racism)))\n",
    "time.sleep(wait_time)\n",
    "racism.click()\n",
    "\n",
    "# Open Season Tab\n",
    "xpath_season = '//div[@data-dropdown-current=\"compSeasons\"]'\n",
    "season = wait.until(EC.element_to_be_clickable((By.XPATH, xpath_season)))\n",
    "time.sleep(wait_time)\n",
    "season.click()\n",
    "\n",
    "# Select Season\n",
    "xpath_year = f'//li[@data-option-name=\"{season_year}\"]'\n",
    "year = wait.until(EC.element_to_be_clickable((By.XPATH, xpath_year)))\n",
    "time.sleep(5)\n",
    "year.click()"
   ]
  }
 ],
 "metadata": {
  "kernelspec": {
   "display_name": "Python 3",
   "language": "python",
   "name": "python3"
  },
  "language_info": {
   "codemirror_mode": {
    "name": "ipython",
    "version": 3
   },
   "file_extension": ".py",
   "mimetype": "text/x-python",
   "name": "python",
   "nbconvert_exporter": "python",
   "pygments_lexer": "ipython3",
   "version": "3.8.5"
  }
 },
 "nbformat": 4,
 "nbformat_minor": 4
}
