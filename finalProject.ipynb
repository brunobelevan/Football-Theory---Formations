{
 "cells": [
  {
   "cell_type": "markdown",
   "metadata": {},
   "source": [
    "Scrapper"
   ]
  },
  {
   "cell_type": "code",
   "execution_count": 1,
   "metadata": {},
   "outputs": [],
   "source": [
    "import time\n",
    "import pandas as pd\n",
    "\n",
    "from time import sleep\n",
    "from selenium import webdriver\n",
    "from selenium.webdriver.chrome.options import Options\n",
    "from selenium.webdriver.support.ui import WebDriverWait\n",
    "from selenium.webdriver.support import expected_conditions as EC\n",
    "from selenium.webdriver.common.by import By\n",
    "from selenium.webdriver.common import keys"
   ]
  },
  {
   "cell_type": "markdown",
   "metadata": {},
   "source": [
    "Lets start by analysing the website of the Premier League (https://www.premierleague.com/home). Here we want to go to results. Second step is to choose the First Team Option, and select 'Filter' to choose our desired season. \n",
    "\n",
    "To do this, lets start by selecting the write URL which is 'https://www.premierleague.com/results?team=FIRST'. Now we are sure we have choosen the right division.\n",
    "\n",
    "We proceed to initiate the bot."
   ]
  },
  {
   "cell_type": "code",
   "execution_count": 13,
   "metadata": {},
   "outputs": [],
   "source": [
    "url = 'https://www.premierleague.com/results?team=FIRST/'\n",
    "\n",
    "\n",
    "browser = webdriver.Chrome()\n",
    "browser.maximize_window()\n",
    "wait = WebDriverWait(browser, 60)\n",
    "\n",
    "\n",
    "browser.get(url)\n",
    "\n",
    "xpath_cookies = '//div[@class=\"btn-primary cookies-notice-accept\"]/span'\n",
    "cookies = wait.until(EC.element_to_be_clickable((By.XPATH, xpath_cookies)))\n",
    "time.sleep(5)\n",
    "cookies.click()\n",
    "\n",
    "xpath_racism = '//a[@id=\"advertClose\"]'\n",
    "racism = wait.until(EC.element_to_be_clickable((By.XPATH, xpath_racism)))\n",
    "time.sleep(5)\n",
    "racism.click()"
   ]
  },
  {
   "cell_type": "code",
   "execution_count": 14,
   "metadata": {},
   "outputs": [],
   "source": [
    "browser.close()\n",
    "browser.quit()"
   ]
  }
 ],
 "metadata": {
  "kernelspec": {
   "display_name": "Python 3",
   "language": "python",
   "name": "python3"
  },
  "language_info": {
   "codemirror_mode": {
    "name": "ipython",
    "version": 3
   },
   "file_extension": ".py",
   "mimetype": "text/x-python",
   "name": "python",
   "nbconvert_exporter": "python",
   "pygments_lexer": "ipython3",
   "version": "3.8.5"
  }
 },
 "nbformat": 4,
 "nbformat_minor": 4
}
