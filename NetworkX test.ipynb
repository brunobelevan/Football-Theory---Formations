{
 "cells": [
  {
   "cell_type": "code",
   "execution_count": 359,
   "metadata": {},
   "outputs": [
    {
     "data": {
      "image/png": "[encoded data removed]",
      "text/plain": [
       "<Figure size 432x288 with 1 Axes>"
      ]
     },
     "metadata": {},
     "output_type": "display_data"
    }
   ],
   "source": [
    "import matplotlib.pyplot as plt\n",
    "import networkx as nx\n",
    "\n",
    "G = nx.house_graph()\n",
    "# explicitly set positions\n",
    "pos = {0: (0, 0), 1: (1, 0), 2: (2, 0), 3: (3, 0), 4: (0, 1), 5: (1, 1), 6: (2, 1), 7: (3, 1), 8: (1, 2), 9: (2, 2)}\n",
    "\n",
    "nx.draw_networkx_nodes(G, pos, node_size=500, nodelist=[0, 1, 2, 3, 4, 5, 6, 7, 8, 9])\n",
    "nx.draw_networkx_edges(G, passes, alpha=0.5, width=6)\n",
    "plt.axis(\"off\")\n",
    "plt.show()"
   ]
  },
  {
   "cell_type": "code",
   "execution_count": 416,
   "metadata": {},
   "outputs": [
    {
     "data": {
      "text/plain": [
       "1"
      ]
     },
     "execution_count": 416,
     "metadata": {},
     "output_type": "execute_result"
    }
   ],
   "source": [
    "formation = (4, 1, 3, 2) \n",
    "formation[1]"
   ]
  },
  {
   "cell_type": "code",
   "execution_count": 430,
   "metadata": {},
   "outputs": [
    {
     "data": {
      "text/plain": [
       "{0: (2, 0),\n",
       " 1: (4, 0),\n",
       " 2: (6, 0),\n",
       " 3: (8, 0),\n",
       " 4: (4, 1),\n",
       " 5: (6, 1),\n",
       " 6: (4, 2),\n",
       " 7: (6, 2)}"
      ]
     },
     "execution_count": 430,
     "metadata": {},
     "output_type": "execute_result"
    }
   ],
   "source": [
    "def transform_formation(formation):\n",
    "    pos = {}\n",
    "    k = 0\n",
    "\n",
    "    for j in range(len(formation)):\n",
    "\n",
    "        if formation[j] == 1:\n",
    "            for i in range(formation[j]*2, 2):\n",
    "                pos[k] = (i + 5, j)\n",
    "                k = k + 1\n",
    "\n",
    "        elif formation[j] == 2:   \n",
    "            for i in range(0, formation[j]*2, 2):\n",
    "                pos[k] = (i + 4, j)\n",
    "                k = k + 1\n",
    "\n",
    "        elif formation[j] == 3:  \n",
    "            for i in range(0, formation[j]*2, 2):\n",
    "                pos[k] = (i + 3, j)\n",
    "                k = k + 1\n",
    "\n",
    "        elif formation[j] == 4:  \n",
    "            for i in range(0, formation[j]*2, 2):\n",
    "                pos[k] = (i + 2, j)\n",
    "                k = k + 1\n",
    "\n",
    "        elif formation[j] == 5:  \n",
    "            for i in range(0, formation[j]*2, 2):\n",
    "                pos[k] = (i + 1, j)\n",
    "                k = k + 1\n",
    "\n",
    "        elif formation[j] == 6:  \n",
    "            for i in range(0, formation[j]*2, 2):\n",
    "                pos[k] = (i, j)\n",
    "                k = k + 1\n",
    "    return pos\n",
    "\n",
    "formation = (4, 2, 2, 1, 1)\n",
    "\n",
    "form = transform_formation(formation)\n",
    "form"
   ]
  },
  {
   "cell_type": "code",
   "execution_count": 422,
   "metadata": {},
   "outputs": [],
   "source": [
    "def produce_edges(form):   \n",
    "    edges = []\n",
    "    \n",
    "    player_possible_1 = [1, 0]\n",
    "    player_possible_2 = [2, 0]\n",
    "    player_possible_3 = [2, 1]\n",
    "    player_possible_4 = [1, 1]\n",
    "    player_possible_5 = [0, 1]\n",
    "    player_possible_6 = [-1, 1]\n",
    "    player_possible_7 = [-2, 1]\n",
    "\n",
    "    player_range = [player_possible_1, \n",
    "                    player_possible_2, \n",
    "                    player_possible_3, \n",
    "                    player_possible_4,\n",
    "                    player_possible_5, \n",
    "                    player_possible_6,\n",
    "                    player_possible_7\n",
    "                   ]\n",
    "\n",
    "    for k in range(10):\n",
    "\n",
    "        player_position = form[k]\n",
    "        print(f\"player_position {player_position}\")\n",
    "        all_posibilities = []\n",
    "        \n",
    "        for i in range(7):\n",
    "            x = player_position[0] + player_range[i][0]\n",
    "            y = player_position[1] + player_range[i][1]\n",
    "            possibility = (x,y)\n",
    "            all_posibilities.append(possibility)\n",
    "\n",
    "        print(all_posibilities)\n",
    "\n",
    "        for j in range(len(all_posibilities)):\n",
    "            possibility = all_posibilities[j]\n",
    "\n",
    "            for i in range(len(form.keys())):\n",
    "                if form[i] == possibility:\n",
    "                    print(f\"possibility {possibility}\")\n",
    "                    print(f\"friend {form[i]}\")\n",
    "                    edge = (k, i)\n",
    "                    edges.append(edge)\n",
    "    return edges"
   ]
  },
  {
   "cell_type": "code",
   "execution_count": 423,
   "metadata": {},
   "outputs": [
    {
     "name": "stdout",
     "output_type": "stream",
     "text": [
      "player_position (2, 0)\n",
      "[(3, 0), (4, 0), (4, 1), (3, 1), (2, 1), (1, 1), (0, 1)]\n",
      "possibility (4, 0)\n",
      "friend (4, 0)\n",
      "player_position (4, 0)\n",
      "[(5, 0), (6, 0), (6, 1), (5, 1), (4, 1), (3, 1), (2, 1)]\n",
      "possibility (6, 0)\n",
      "friend (6, 0)\n",
      "player_position (6, 0)\n",
      "[(7, 0), (8, 0), (8, 1), (7, 1), (6, 1), (5, 1), (4, 1)]\n",
      "possibility (8, 0)\n",
      "friend (8, 0)\n",
      "player_position (8, 0)\n",
      "[(9, 0), (10, 0), (10, 1), (9, 1), (8, 1), (7, 1), (6, 1)]\n",
      "player_position (3, 2)\n",
      "[(4, 2), (5, 2), (5, 3), (4, 3), (3, 3), (2, 3), (1, 3)]\n",
      "possibility (5, 2)\n",
      "friend (5, 2)\n",
      "possibility (4, 3)\n",
      "friend (4, 3)\n",
      "player_position (5, 2)\n",
      "[(6, 2), (7, 2), (7, 3), (6, 3), (5, 3), (4, 3), (3, 3)]\n",
      "possibility (7, 2)\n",
      "friend (7, 2)\n",
      "possibility (6, 3)\n",
      "friend (6, 3)\n",
      "possibility (4, 3)\n",
      "friend (4, 3)\n",
      "player_position (7, 2)\n",
      "[(8, 2), (9, 2), (9, 3), (8, 3), (7, 3), (6, 3), (5, 3)]\n",
      "possibility (6, 3)\n",
      "friend (6, 3)\n",
      "player_position (4, 3)\n",
      "[(5, 3), (6, 3), (6, 4), (5, 4), (4, 4), (3, 4), (2, 4)]\n",
      "possibility (6, 3)\n",
      "friend (6, 3)\n",
      "player_position (6, 3)\n",
      "[(7, 3), (8, 3), (8, 4), (7, 4), (6, 4), (5, 4), (4, 4)]\n"
     ]
    },
    {
     "ename": "KeyError",
     "evalue": "9",
     "output_type": "error",
     "traceback": [
      "\u001b[1;31m---------------------------------------------------------------------------\u001b[0m",
      "\u001b[1;31mKeyError\u001b[0m                                  Traceback (most recent call last)",
      "\u001b[1;32m<ipython-input-423-764345de1b88>\u001b[0m in \u001b[0;36m<module>\u001b[1;34m\u001b[0m\n\u001b[1;32m----> 1\u001b[1;33m \u001b[0mpasses\u001b[0m \u001b[1;33m=\u001b[0m \u001b[0mproduce_edges\u001b[0m\u001b[1;33m(\u001b[0m\u001b[0mform\u001b[0m\u001b[1;33m)\u001b[0m\u001b[1;33m\u001b[0m\u001b[1;33m\u001b[0m\u001b[0m\n\u001b[0m\u001b[0;32m      2\u001b[0m \u001b[0mpasses\u001b[0m\u001b[1;33m\u001b[0m\u001b[1;33m\u001b[0m\u001b[0m\n",
      "\u001b[1;32m<ipython-input-422-c6ae939ab0a6>\u001b[0m in \u001b[0;36mproduce_edges\u001b[1;34m(form)\u001b[0m\n\u001b[0;32m     21\u001b[0m     \u001b[1;32mfor\u001b[0m \u001b[0mk\u001b[0m \u001b[1;32min\u001b[0m \u001b[0mrange\u001b[0m\u001b[1;33m(\u001b[0m\u001b[1;36m10\u001b[0m\u001b[1;33m)\u001b[0m\u001b[1;33m:\u001b[0m\u001b[1;33m\u001b[0m\u001b[1;33m\u001b[0m\u001b[0m\n\u001b[0;32m     22\u001b[0m \u001b[1;33m\u001b[0m\u001b[0m\n\u001b[1;32m---> 23\u001b[1;33m         \u001b[0mplayer_position\u001b[0m \u001b[1;33m=\u001b[0m \u001b[0mform\u001b[0m\u001b[1;33m[\u001b[0m\u001b[0mk\u001b[0m\u001b[1;33m]\u001b[0m\u001b[1;33m\u001b[0m\u001b[1;33m\u001b[0m\u001b[0m\n\u001b[0m\u001b[0;32m     24\u001b[0m         \u001b[0mprint\u001b[0m\u001b[1;33m(\u001b[0m\u001b[1;34mf\"player_position {player_position}\"\u001b[0m\u001b[1;33m)\u001b[0m\u001b[1;33m\u001b[0m\u001b[1;33m\u001b[0m\u001b[0m\n\u001b[0;32m     25\u001b[0m         \u001b[0mall_posibilities\u001b[0m \u001b[1;33m=\u001b[0m \u001b[1;33m[\u001b[0m\u001b[1;33m]\u001b[0m\u001b[1;33m\u001b[0m\u001b[1;33m\u001b[0m\u001b[0m\n",
      "\u001b[1;31mKeyError\u001b[0m: 9"
     ]
    }
   ],
   "source": [
    "passes = produce_edges(form)\n",
    "passes"
   ]
  },
  {
   "cell_type": "code",
   "execution_count": 424,
   "metadata": {},
   "outputs": [
    {
     "ename": "NetworkXError",
     "evalue": "Node 9 has no position.",
     "output_type": "error",
     "traceback": [
      "\u001b[1;31m---------------------------------------------------------------------------\u001b[0m",
      "\u001b[1;31mKeyError\u001b[0m                                  Traceback (most recent call last)",
      "\u001b[1;32m~\\anaconda3\\lib\\site-packages\\networkx\\drawing\\nx_pylab.py\u001b[0m in \u001b[0;36mdraw_networkx_nodes\u001b[1;34m(G, pos, nodelist, node_size, node_color, node_shape, alpha, cmap, vmin, vmax, ax, linewidths, edgecolors, label)\u001b[0m\n\u001b[0;32m    455\u001b[0m     \u001b[1;32mtry\u001b[0m\u001b[1;33m:\u001b[0m\u001b[1;33m\u001b[0m\u001b[1;33m\u001b[0m\u001b[0m\n\u001b[1;32m--> 456\u001b[1;33m         \u001b[0mxy\u001b[0m \u001b[1;33m=\u001b[0m \u001b[0mnp\u001b[0m\u001b[1;33m.\u001b[0m\u001b[0masarray\u001b[0m\u001b[1;33m(\u001b[0m\u001b[1;33m[\u001b[0m\u001b[0mpos\u001b[0m\u001b[1;33m[\u001b[0m\u001b[0mv\u001b[0m\u001b[1;33m]\u001b[0m \u001b[1;32mfor\u001b[0m \u001b[0mv\u001b[0m \u001b[1;32min\u001b[0m \u001b[0mnodelist\u001b[0m\u001b[1;33m]\u001b[0m\u001b[1;33m)\u001b[0m\u001b[1;33m\u001b[0m\u001b[1;33m\u001b[0m\u001b[0m\n\u001b[0m\u001b[0;32m    457\u001b[0m     \u001b[1;32mexcept\u001b[0m \u001b[0mKeyError\u001b[0m \u001b[1;32mas\u001b[0m \u001b[0me\u001b[0m\u001b[1;33m:\u001b[0m\u001b[1;33m\u001b[0m\u001b[1;33m\u001b[0m\u001b[0m\n",
      "\u001b[1;32m~\\anaconda3\\lib\\site-packages\\networkx\\drawing\\nx_pylab.py\u001b[0m in \u001b[0;36m<listcomp>\u001b[1;34m(.0)\u001b[0m\n\u001b[0;32m    455\u001b[0m     \u001b[1;32mtry\u001b[0m\u001b[1;33m:\u001b[0m\u001b[1;33m\u001b[0m\u001b[1;33m\u001b[0m\u001b[0m\n\u001b[1;32m--> 456\u001b[1;33m         \u001b[0mxy\u001b[0m \u001b[1;33m=\u001b[0m \u001b[0mnp\u001b[0m\u001b[1;33m.\u001b[0m\u001b[0masarray\u001b[0m\u001b[1;33m(\u001b[0m\u001b[1;33m[\u001b[0m\u001b[0mpos\u001b[0m\u001b[1;33m[\u001b[0m\u001b[0mv\u001b[0m\u001b[1;33m]\u001b[0m \u001b[1;32mfor\u001b[0m \u001b[0mv\u001b[0m \u001b[1;32min\u001b[0m \u001b[0mnodelist\u001b[0m\u001b[1;33m]\u001b[0m\u001b[1;33m)\u001b[0m\u001b[1;33m\u001b[0m\u001b[1;33m\u001b[0m\u001b[0m\n\u001b[0m\u001b[0;32m    457\u001b[0m     \u001b[1;32mexcept\u001b[0m \u001b[0mKeyError\u001b[0m \u001b[1;32mas\u001b[0m \u001b[0me\u001b[0m\u001b[1;33m:\u001b[0m\u001b[1;33m\u001b[0m\u001b[1;33m\u001b[0m\u001b[0m\n",
      "\u001b[1;31mKeyError\u001b[0m: 9",
      "\nThe above exception was the direct cause of the following exception:\n",
      "\u001b[1;31mNetworkXError\u001b[0m                             Traceback (most recent call last)",
      "\u001b[1;32m<ipython-input-424-37e73143a9f2>\u001b[0m in \u001b[0;36m<module>\u001b[1;34m\u001b[0m\n\u001b[0;32m     31\u001b[0m \u001b[1;33m\u001b[0m\u001b[0m\n\u001b[0;32m     32\u001b[0m \u001b[1;33m\u001b[0m\u001b[0m\n\u001b[1;32m---> 33\u001b[1;33m \u001b[0mdraw_graph\u001b[0m\u001b[1;33m(\u001b[0m\u001b[0mgraph\u001b[0m\u001b[1;33m)\u001b[0m\u001b[1;33m\u001b[0m\u001b[1;33m\u001b[0m\u001b[0m\n\u001b[0m",
      "\u001b[1;32m<ipython-input-424-37e73143a9f2>\u001b[0m in \u001b[0;36mdraw_graph\u001b[1;34m(graph)\u001b[0m\n\u001b[0;32m     17\u001b[0m \u001b[1;33m\u001b[0m\u001b[0m\n\u001b[0;32m     18\u001b[0m     \u001b[1;31m# draw nodes, edges and labels\u001b[0m\u001b[1;33m\u001b[0m\u001b[1;33m\u001b[0m\u001b[1;33m\u001b[0m\u001b[0m\n\u001b[1;32m---> 19\u001b[1;33m     \u001b[0mnx\u001b[0m\u001b[1;33m.\u001b[0m\u001b[0mdraw_networkx_nodes\u001b[0m\u001b[1;33m(\u001b[0m\u001b[0mG\u001b[0m\u001b[1;33m,\u001b[0m \u001b[0mgraph_pos\u001b[0m\u001b[1;33m,\u001b[0m \u001b[0mnode_size\u001b[0m\u001b[1;33m=\u001b[0m\u001b[1;36m500\u001b[0m\u001b[1;33m,\u001b[0m \u001b[0mnode_color\u001b[0m\u001b[1;33m=\u001b[0m\u001b[1;34m'blue'\u001b[0m\u001b[1;33m,\u001b[0m \u001b[0malpha\u001b[0m\u001b[1;33m=\u001b[0m\u001b[1;36m0.3\u001b[0m\u001b[1;33m)\u001b[0m\u001b[1;33m\u001b[0m\u001b[1;33m\u001b[0m\u001b[0m\n\u001b[0m\u001b[0;32m     20\u001b[0m     \u001b[0mnx\u001b[0m\u001b[1;33m.\u001b[0m\u001b[0mdraw_networkx_edges\u001b[0m\u001b[1;33m(\u001b[0m\u001b[0mG\u001b[0m\u001b[1;33m,\u001b[0m \u001b[0mgraph_pos\u001b[0m\u001b[1;33m)\u001b[0m\u001b[1;33m\u001b[0m\u001b[1;33m\u001b[0m\u001b[0m\n\u001b[0;32m     21\u001b[0m     \u001b[0mnx\u001b[0m\u001b[1;33m.\u001b[0m\u001b[0mdraw_networkx_labels\u001b[0m\u001b[1;33m(\u001b[0m\u001b[0mG\u001b[0m\u001b[1;33m,\u001b[0m \u001b[0mgraph_pos\u001b[0m\u001b[1;33m,\u001b[0m \u001b[0mfont_size\u001b[0m\u001b[1;33m=\u001b[0m\u001b[1;36m12\u001b[0m\u001b[1;33m,\u001b[0m \u001b[0mfont_family\u001b[0m\u001b[1;33m=\u001b[0m\u001b[1;34m'sans-serif'\u001b[0m\u001b[1;33m)\u001b[0m\u001b[1;33m\u001b[0m\u001b[1;33m\u001b[0m\u001b[0m\n",
      "\u001b[1;32m~\\anaconda3\\lib\\site-packages\\networkx\\drawing\\nx_pylab.py\u001b[0m in \u001b[0;36mdraw_networkx_nodes\u001b[1;34m(G, pos, nodelist, node_size, node_color, node_shape, alpha, cmap, vmin, vmax, ax, linewidths, edgecolors, label)\u001b[0m\n\u001b[0;32m    456\u001b[0m         \u001b[0mxy\u001b[0m \u001b[1;33m=\u001b[0m \u001b[0mnp\u001b[0m\u001b[1;33m.\u001b[0m\u001b[0masarray\u001b[0m\u001b[1;33m(\u001b[0m\u001b[1;33m[\u001b[0m\u001b[0mpos\u001b[0m\u001b[1;33m[\u001b[0m\u001b[0mv\u001b[0m\u001b[1;33m]\u001b[0m \u001b[1;32mfor\u001b[0m \u001b[0mv\u001b[0m \u001b[1;32min\u001b[0m \u001b[0mnodelist\u001b[0m\u001b[1;33m]\u001b[0m\u001b[1;33m)\u001b[0m\u001b[1;33m\u001b[0m\u001b[1;33m\u001b[0m\u001b[0m\n\u001b[0;32m    457\u001b[0m     \u001b[1;32mexcept\u001b[0m \u001b[0mKeyError\u001b[0m \u001b[1;32mas\u001b[0m \u001b[0me\u001b[0m\u001b[1;33m:\u001b[0m\u001b[1;33m\u001b[0m\u001b[1;33m\u001b[0m\u001b[0m\n\u001b[1;32m--> 458\u001b[1;33m         \u001b[1;32mraise\u001b[0m \u001b[0mnx\u001b[0m\u001b[1;33m.\u001b[0m\u001b[0mNetworkXError\u001b[0m\u001b[1;33m(\u001b[0m\u001b[1;34mf\"Node {e} has no position.\"\u001b[0m\u001b[1;33m)\u001b[0m \u001b[1;32mfrom\u001b[0m \u001b[0me\u001b[0m\u001b[1;33m\u001b[0m\u001b[1;33m\u001b[0m\u001b[0m\n\u001b[0m\u001b[0;32m    459\u001b[0m     \u001b[1;32mexcept\u001b[0m \u001b[0mValueError\u001b[0m \u001b[1;32mas\u001b[0m \u001b[0me\u001b[0m\u001b[1;33m:\u001b[0m\u001b[1;33m\u001b[0m\u001b[1;33m\u001b[0m\u001b[0m\n\u001b[0;32m    460\u001b[0m         \u001b[1;32mraise\u001b[0m \u001b[0mnx\u001b[0m\u001b[1;33m.\u001b[0m\u001b[0mNetworkXError\u001b[0m\u001b[1;33m(\u001b[0m\u001b[1;34m\"Bad value in node positions.\"\u001b[0m\u001b[1;33m)\u001b[0m \u001b[1;32mfrom\u001b[0m \u001b[0me\u001b[0m\u001b[1;33m\u001b[0m\u001b[1;33m\u001b[0m\u001b[0m\n",
      "\u001b[1;31mNetworkXError\u001b[0m: Node 9 has no position."
     ]
    },
    {
     "data": {
      "image/png": "[encoded data removed]",
      "text/plain": [
       "<Figure size 432x288 with 1 Axes>"
      ]
     },
     "metadata": {
      "needs_background": "light"
     },
     "output_type": "display_data"
    }
   ],
   "source": [
    "import networkx as nx\n",
    "import matplotlib.pyplot as plt\n",
    "\n",
    "\n",
    "def draw_graph(graph):\n",
    "    # create networkx graph\n",
    "    G=nx.Graph()\n",
    "\n",
    "    # add edges\n",
    "    for edge in graph:\n",
    "        G.add_edge(edge[0], edge[1])\n",
    "\n",
    "    # There are graph layouts like shell, spring, spectral and random.\n",
    "    # Shell layout usually looks better, so we're choosing it.\n",
    "    # I will show some examples later of other layouts\n",
    "    graph_pos = transform_formation(formation)\n",
    "\n",
    "    # draw nodes, edges and labels\n",
    "    nx.draw_networkx_nodes(G, graph_pos, node_size=500, node_color='blue', alpha=0.3)\n",
    "    nx.draw_networkx_edges(G, graph_pos)\n",
    "    nx.draw_networkx_labels(G, graph_pos, font_size=12, font_family='sans-serif')\n",
    "\n",
    "    # show graph\n",
    "    plt.show()\n",
    "    print(G.number_of_edges())\n",
    "\n",
    "# draw example\n",
    "# graph is a list of tuples of nodes. Each tuple defining the\n",
    "# connection between 2 nodes\n",
    "graph = passes\n",
    "\n",
    "\n",
    "draw_graph(graph)"
   ]
  }
 ],
 "metadata": {
  "kernelspec": {
   "display_name": "Python 3",
   "language": "python",
   "name": "python3"
  },
  "language_info": {
   "codemirror_mode": {
    "name": "ipython",
    "version": 3
   },
   "file_extension": ".py",
   "mimetype": "text/x-python",
   "name": "python",
   "nbconvert_exporter": "python",
   "pygments_lexer": "ipython3",
   "version": "3.8.5"
  }
 },
 "nbformat": 4,
 "nbformat_minor": 4
}
